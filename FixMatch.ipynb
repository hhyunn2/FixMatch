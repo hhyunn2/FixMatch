{
  "nbformat": 4,
  "nbformat_minor": 0,
  "metadata": {
    "colab": {
      "name": "FixMatch",
      "provenance": [],
      "collapsed_sections": [],
      "mount_file_id": "1ep0kyHClVZ9BvWRwQ7WBpsMUY5C0DfOn",
      "authorship_tag": "ABX9TyM4BQ6GO45M4ntdQDzTmhwe"
    },
    "kernelspec": {
      "name": "python3",
      "display_name": "Python 3"
    },
    "widgets": {
      "application/vnd.jupyter.widget-state+json": {
        "593ac7c2291d4fb581c8c44b97f75b2a": {
          "model_module": "@jupyter-widgets/controls",
          "model_name": "HBoxModel",
          "state": {
            "_view_name": "HBoxView",
            "_dom_classes": [],
            "_model_name": "HBoxModel",
            "_view_module": "@jupyter-widgets/controls",
            "_model_module_version": "1.5.0",
            "_view_count": null,
            "_view_module_version": "1.5.0",
            "box_style": "",
            "layout": "IPY_MODEL_dbc2e2ac81964d3d8c60893a426c1afd",
            "_model_module": "@jupyter-widgets/controls",
            "children": [
              "IPY_MODEL_fa0a0a266fc2462881d4a01bb8ccac9d",
              "IPY_MODEL_d3013a82454648c8a527180909aae4d1"
            ]
          }
        },
        "dbc2e2ac81964d3d8c60893a426c1afd": {
          "model_module": "@jupyter-widgets/base",
          "model_name": "LayoutModel",
          "state": {
            "_view_name": "LayoutView",
            "grid_template_rows": null,
            "right": null,
            "justify_content": null,
            "_view_module": "@jupyter-widgets/base",
            "overflow": null,
            "_model_module_version": "1.2.0",
            "_view_count": null,
            "flex_flow": null,
            "width": null,
            "min_width": null,
            "border": null,
            "align_items": null,
            "bottom": null,
            "_model_module": "@jupyter-widgets/base",
            "top": null,
            "grid_column": null,
            "overflow_y": null,
            "overflow_x": null,
            "grid_auto_flow": null,
            "grid_area": null,
            "grid_template_columns": null,
            "flex": null,
            "_model_name": "LayoutModel",
            "justify_items": null,
            "grid_row": null,
            "max_height": null,
            "align_content": null,
            "visibility": null,
            "align_self": null,
            "height": null,
            "min_height": null,
            "padding": null,
            "grid_auto_rows": null,
            "grid_gap": null,
            "max_width": null,
            "order": null,
            "_view_module_version": "1.2.0",
            "grid_template_areas": null,
            "object_position": null,
            "object_fit": null,
            "grid_auto_columns": null,
            "margin": null,
            "display": null,
            "left": null
          }
        },
        "fa0a0a266fc2462881d4a01bb8ccac9d": {
          "model_module": "@jupyter-widgets/controls",
          "model_name": "FloatProgressModel",
          "state": {
            "_view_name": "ProgressView",
            "style": "IPY_MODEL_d05d31f6227745db9225dc65e9c0c3d8",
            "_dom_classes": [],
            "description": "",
            "_model_name": "FloatProgressModel",
            "bar_style": "info",
            "max": 1,
            "_view_module": "@jupyter-widgets/controls",
            "_model_module_version": "1.5.0",
            "value": 1,
            "_view_count": null,
            "_view_module_version": "1.5.0",
            "orientation": "horizontal",
            "min": 0,
            "description_tooltip": null,
            "_model_module": "@jupyter-widgets/controls",
            "layout": "IPY_MODEL_481f9f368b8e42df9649c9e7ff0f891e"
          }
        },
        "d3013a82454648c8a527180909aae4d1": {
          "model_module": "@jupyter-widgets/controls",
          "model_name": "HTMLModel",
          "state": {
            "_view_name": "HTMLView",
            "style": "IPY_MODEL_4e93309254504b6386b8cc04eae623ef",
            "_dom_classes": [],
            "description": "",
            "_model_name": "HTMLModel",
            "placeholder": "​",
            "_view_module": "@jupyter-widgets/controls",
            "_model_module_version": "1.5.0",
            "value": " 170500096/? [00:20&lt;00:00, 79628580.23it/s]",
            "_view_count": null,
            "_view_module_version": "1.5.0",
            "description_tooltip": null,
            "_model_module": "@jupyter-widgets/controls",
            "layout": "IPY_MODEL_270ab7f0346441cda0660d39a3cb61e5"
          }
        },
        "d05d31f6227745db9225dc65e9c0c3d8": {
          "model_module": "@jupyter-widgets/controls",
          "model_name": "ProgressStyleModel",
          "state": {
            "_view_name": "StyleView",
            "_model_name": "ProgressStyleModel",
            "description_width": "initial",
            "_view_module": "@jupyter-widgets/base",
            "_model_module_version": "1.5.0",
            "_view_count": null,
            "_view_module_version": "1.2.0",
            "bar_color": null,
            "_model_module": "@jupyter-widgets/controls"
          }
        },
        "481f9f368b8e42df9649c9e7ff0f891e": {
          "model_module": "@jupyter-widgets/base",
          "model_name": "LayoutModel",
          "state": {
            "_view_name": "LayoutView",
            "grid_template_rows": null,
            "right": null,
            "justify_content": null,
            "_view_module": "@jupyter-widgets/base",
            "overflow": null,
            "_model_module_version": "1.2.0",
            "_view_count": null,
            "flex_flow": null,
            "width": null,
            "min_width": null,
            "border": null,
            "align_items": null,
            "bottom": null,
            "_model_module": "@jupyter-widgets/base",
            "top": null,
            "grid_column": null,
            "overflow_y": null,
            "overflow_x": null,
            "grid_auto_flow": null,
            "grid_area": null,
            "grid_template_columns": null,
            "flex": null,
            "_model_name": "LayoutModel",
            "justify_items": null,
            "grid_row": null,
            "max_height": null,
            "align_content": null,
            "visibility": null,
            "align_self": null,
            "height": null,
            "min_height": null,
            "padding": null,
            "grid_auto_rows": null,
            "grid_gap": null,
            "max_width": null,
            "order": null,
            "_view_module_version": "1.2.0",
            "grid_template_areas": null,
            "object_position": null,
            "object_fit": null,
            "grid_auto_columns": null,
            "margin": null,
            "display": null,
            "left": null
          }
        },
        "4e93309254504b6386b8cc04eae623ef": {
          "model_module": "@jupyter-widgets/controls",
          "model_name": "DescriptionStyleModel",
          "state": {
            "_view_name": "StyleView",
            "_model_name": "DescriptionStyleModel",
            "description_width": "",
            "_view_module": "@jupyter-widgets/base",
            "_model_module_version": "1.5.0",
            "_view_count": null,
            "_view_module_version": "1.2.0",
            "_model_module": "@jupyter-widgets/controls"
          }
        },
        "270ab7f0346441cda0660d39a3cb61e5": {
          "model_module": "@jupyter-widgets/base",
          "model_name": "LayoutModel",
          "state": {
            "_view_name": "LayoutView",
            "grid_template_rows": null,
            "right": null,
            "justify_content": null,
            "_view_module": "@jupyter-widgets/base",
            "overflow": null,
            "_model_module_version": "1.2.0",
            "_view_count": null,
            "flex_flow": null,
            "width": null,
            "min_width": null,
            "border": null,
            "align_items": null,
            "bottom": null,
            "_model_module": "@jupyter-widgets/base",
            "top": null,
            "grid_column": null,
            "overflow_y": null,
            "overflow_x": null,
            "grid_auto_flow": null,
            "grid_area": null,
            "grid_template_columns": null,
            "flex": null,
            "_model_name": "LayoutModel",
            "justify_items": null,
            "grid_row": null,
            "max_height": null,
            "align_content": null,
            "visibility": null,
            "align_self": null,
            "height": null,
            "min_height": null,
            "padding": null,
            "grid_auto_rows": null,
            "grid_gap": null,
            "max_width": null,
            "order": null,
            "_view_module_version": "1.2.0",
            "grid_template_areas": null,
            "object_position": null,
            "object_fit": null,
            "grid_auto_columns": null,
            "margin": null,
            "display": null,
            "left": null
          }
        },
        "aa3ecb3f87874218aab030c8190824b6": {
          "model_module": "@jupyter-widgets/controls",
          "model_name": "HBoxModel",
          "state": {
            "_view_name": "HBoxView",
            "_dom_classes": [],
            "_model_name": "HBoxModel",
            "_view_module": "@jupyter-widgets/controls",
            "_model_module_version": "1.5.0",
            "_view_count": null,
            "_view_module_version": "1.5.0",
            "box_style": "",
            "layout": "IPY_MODEL_22494632b23a423e92734ba3354c8ee2",
            "_model_module": "@jupyter-widgets/controls",
            "children": [
              "IPY_MODEL_44340b3b1524482193f66179f95b08fb",
              "IPY_MODEL_4b5800389a02466cb0cfff5bac6d9141"
            ]
          }
        },
        "22494632b23a423e92734ba3354c8ee2": {
          "model_module": "@jupyter-widgets/base",
          "model_name": "LayoutModel",
          "state": {
            "_view_name": "LayoutView",
            "grid_template_rows": null,
            "right": null,
            "justify_content": null,
            "_view_module": "@jupyter-widgets/base",
            "overflow": null,
            "_model_module_version": "1.2.0",
            "_view_count": null,
            "flex_flow": null,
            "width": null,
            "min_width": null,
            "border": null,
            "align_items": null,
            "bottom": null,
            "_model_module": "@jupyter-widgets/base",
            "top": null,
            "grid_column": null,
            "overflow_y": null,
            "overflow_x": null,
            "grid_auto_flow": null,
            "grid_area": null,
            "grid_template_columns": null,
            "flex": null,
            "_model_name": "LayoutModel",
            "justify_items": null,
            "grid_row": null,
            "max_height": null,
            "align_content": null,
            "visibility": null,
            "align_self": null,
            "height": null,
            "min_height": null,
            "padding": null,
            "grid_auto_rows": null,
            "grid_gap": null,
            "max_width": null,
            "order": null,
            "_view_module_version": "1.2.0",
            "grid_template_areas": null,
            "object_position": null,
            "object_fit": null,
            "grid_auto_columns": null,
            "margin": null,
            "display": null,
            "left": null
          }
        },
        "44340b3b1524482193f66179f95b08fb": {
          "model_module": "@jupyter-widgets/controls",
          "model_name": "FloatProgressModel",
          "state": {
            "_view_name": "ProgressView",
            "style": "IPY_MODEL_c80cf400d3634ac2ab2f3cf54b833224",
            "_dom_classes": [],
            "description": "",
            "_model_name": "FloatProgressModel",
            "bar_style": "info",
            "max": 1,
            "_view_module": "@jupyter-widgets/controls",
            "_model_module_version": "1.5.0",
            "value": 1,
            "_view_count": null,
            "_view_module_version": "1.5.0",
            "orientation": "horizontal",
            "min": 0,
            "description_tooltip": null,
            "_model_module": "@jupyter-widgets/controls",
            "layout": "IPY_MODEL_a8e772213465499ab3bdda82fee38a2e"
          }
        },
        "4b5800389a02466cb0cfff5bac6d9141": {
          "model_module": "@jupyter-widgets/controls",
          "model_name": "HTMLModel",
          "state": {
            "_view_name": "HTMLView",
            "style": "IPY_MODEL_53ff6a74a805493c983ed7f8da80ea38",
            "_dom_classes": [],
            "description": "",
            "_model_name": "HTMLModel",
            "placeholder": "​",
            "_view_module": "@jupyter-widgets/controls",
            "_model_module_version": "1.5.0",
            "value": " 169009152/? [00:20&lt;00:00, 82282109.01it/s]",
            "_view_count": null,
            "_view_module_version": "1.5.0",
            "description_tooltip": null,
            "_model_module": "@jupyter-widgets/controls",
            "layout": "IPY_MODEL_0b58bf60e0b7404f8b28bd32544416a4"
          }
        },
        "c80cf400d3634ac2ab2f3cf54b833224": {
          "model_module": "@jupyter-widgets/controls",
          "model_name": "ProgressStyleModel",
          "state": {
            "_view_name": "StyleView",
            "_model_name": "ProgressStyleModel",
            "description_width": "initial",
            "_view_module": "@jupyter-widgets/base",
            "_model_module_version": "1.5.0",
            "_view_count": null,
            "_view_module_version": "1.2.0",
            "bar_color": null,
            "_model_module": "@jupyter-widgets/controls"
          }
        },
        "a8e772213465499ab3bdda82fee38a2e": {
          "model_module": "@jupyter-widgets/base",
          "model_name": "LayoutModel",
          "state": {
            "_view_name": "LayoutView",
            "grid_template_rows": null,
            "right": null,
            "justify_content": null,
            "_view_module": "@jupyter-widgets/base",
            "overflow": null,
            "_model_module_version": "1.2.0",
            "_view_count": null,
            "flex_flow": null,
            "width": null,
            "min_width": null,
            "border": null,
            "align_items": null,
            "bottom": null,
            "_model_module": "@jupyter-widgets/base",
            "top": null,
            "grid_column": null,
            "overflow_y": null,
            "overflow_x": null,
            "grid_auto_flow": null,
            "grid_area": null,
            "grid_template_columns": null,
            "flex": null,
            "_model_name": "LayoutModel",
            "justify_items": null,
            "grid_row": null,
            "max_height": null,
            "align_content": null,
            "visibility": null,
            "align_self": null,
            "height": null,
            "min_height": null,
            "padding": null,
            "grid_auto_rows": null,
            "grid_gap": null,
            "max_width": null,
            "order": null,
            "_view_module_version": "1.2.0",
            "grid_template_areas": null,
            "object_position": null,
            "object_fit": null,
            "grid_auto_columns": null,
            "margin": null,
            "display": null,
            "left": null
          }
        },
        "53ff6a74a805493c983ed7f8da80ea38": {
          "model_module": "@jupyter-widgets/controls",
          "model_name": "DescriptionStyleModel",
          "state": {
            "_view_name": "StyleView",
            "_model_name": "DescriptionStyleModel",
            "description_width": "",
            "_view_module": "@jupyter-widgets/base",
            "_model_module_version": "1.5.0",
            "_view_count": null,
            "_view_module_version": "1.2.0",
            "_model_module": "@jupyter-widgets/controls"
          }
        },
        "0b58bf60e0b7404f8b28bd32544416a4": {
          "model_module": "@jupyter-widgets/base",
          "model_name": "LayoutModel",
          "state": {
            "_view_name": "LayoutView",
            "grid_template_rows": null,
            "right": null,
            "justify_content": null,
            "_view_module": "@jupyter-widgets/base",
            "overflow": null,
            "_model_module_version": "1.2.0",
            "_view_count": null,
            "flex_flow": null,
            "width": null,
            "min_width": null,
            "border": null,
            "align_items": null,
            "bottom": null,
            "_model_module": "@jupyter-widgets/base",
            "top": null,
            "grid_column": null,
            "overflow_y": null,
            "overflow_x": null,
            "grid_auto_flow": null,
            "grid_area": null,
            "grid_template_columns": null,
            "flex": null,
            "_model_name": "LayoutModel",
            "justify_items": null,
            "grid_row": null,
            "max_height": null,
            "align_content": null,
            "visibility": null,
            "align_self": null,
            "height": null,
            "min_height": null,
            "padding": null,
            "grid_auto_rows": null,
            "grid_gap": null,
            "max_width": null,
            "order": null,
            "_view_module_version": "1.2.0",
            "grid_template_areas": null,
            "object_position": null,
            "object_fit": null,
            "grid_auto_columns": null,
            "margin": null,
            "display": null,
            "left": null
          }
        }
      }
    }
  },
  "cells": [
    {
      "cell_type": "markdown",
      "metadata": {
        "id": "L6_ZE4LUOv03"
      },
      "source": [
        "# Import Modules"
      ]
    },
    {
      "cell_type": "code",
      "metadata": {
        "id": "PQq0sQwGBiWs"
      },
      "source": [
        "import os\r\n",
        "import sys\r\n",
        "\r\n",
        "import numpy as np\r\n",
        "import matplotlib.pyplot as plt\r\n",
        "import seaborn as sns\r\n",
        "import random\r\n",
        "import math\r\n",
        "from PIL import Image \r\n",
        "import torch\r\n",
        "import torch.nn as nn\r\n",
        "import torch.nn.functional as F\r\n",
        "from torch.optim import Adam, SGD\r\n",
        "\r\n",
        "import torchvision\r\n",
        "import torchvision.datasets as datasets\r\n",
        "import torchvision.transforms as transforms\r\n",
        "import torchvision.models as models\r\n",
        "from torch.nn.parameter import Parameter\r\n",
        "from torch.utils.data import DataLoader, Dataset\r\n",
        "from torch.optim.lr_scheduler import CosineAnnealingWarmRestarts, CosineAnnealingLR, ReduceLROnPlateau"
      ],
      "execution_count": null,
      "outputs": []
    },
    {
      "cell_type": "code",
      "metadata": {
        "id": "UiWgcMeq5tcE"
      },
      "source": [
        "def seed_torch(seed=2021):\r\n",
        "    random.seed(seed)\r\n",
        "    os.environ['PYTHONHASHSEED'] = str(seed)\r\n",
        "    np.random.seed(seed)\r\n",
        "    torch.manual_seed(seed)\r\n",
        "    torch.cuda.manual_seed(seed)\r\n",
        "    torch.backends.cudnn.deterministic = True\r\n",
        "\r\n",
        "seed_torch()"
      ],
      "execution_count": null,
      "outputs": []
    },
    {
      "cell_type": "code",
      "metadata": {
        "colab": {
          "base_uri": "https://localhost:8080/",
          "height": 35
        },
        "id": "SJ5IfrpB5jJq",
        "outputId": "ec0134c8-6532-4238-a391-8f9343707643"
      },
      "source": [
        "# Clone the entire repo.\n",
        "'''\n",
        "!git clone -l -s git://github.com/ildoonet/pytorch-randaugment.git\n",
        "%cd cloned-repo\n",
        "!ls\n",
        "'''"
      ],
      "execution_count": null,
      "outputs": [
        {
          "output_type": "execute_result",
          "data": {
            "application/vnd.google.colaboratory.intrinsic+json": {
              "type": "string"
            },
            "text/plain": [
              "'\\n!git clone -l -s git://github.com/ildoonet/pytorch-randaugment.git\\n%cd cloned-repo\\n!ls\\n'"
            ]
          },
          "metadata": {
            "tags": []
          },
          "execution_count": 3
        }
      ]
    },
    {
      "cell_type": "code",
      "metadata": {
        "id": "ilgqky1O55MH"
      },
      "source": [
        "sys.path.append('/content/drive/MyDrive/fixmatch')\r\n",
        "from randaugment import RandAugment"
      ],
      "execution_count": null,
      "outputs": []
    },
    {
      "cell_type": "markdown",
      "metadata": {
        "id": "HyKkaSZgY4xK"
      },
      "source": [
        "Hyperparameter: $\\lambda_u=1, \\eta=0.03, \\beta=0.9, \\tau=0.95, \\mu=7, B=64, K=2^{20}$  \r\n",
        "\r\n",
        "- Parameter in loss function: $\\lambda_u$\r\n",
        "- Parameter of SGD: $\\eta, \\beta$  \r\n",
        "- Threshold: $\\tau$  \r\n",
        "- Unlabeled data ratio: $\\mu$\r\n",
        "- Batch: B\r\n",
        "\r\n",
        "weight decay=0.0005 in CIFAR-10 and weight decay=0.001 in CIFAR-100  \r\n",
        "WRN-28-2 with CIFAR-10, WRN-28-8 with CIFAR-100\r\n"
      ]
    },
    {
      "cell_type": "markdown",
      "metadata": {
        "id": "7Md6c6xpOo2w"
      },
      "source": [
        "# Make Dataset"
      ]
    },
    {
      "cell_type": "code",
      "metadata": {
        "id": "8MrheGh5EjoN"
      },
      "source": [
        "class CIFAR10SSL(datasets.CIFAR10):\r\n",
        "    def __init__(self, root, indexs, train=True, transform=None, download=False):\r\n",
        "        super().__init__(root, train=True, transform=transform, download=download)\r\n",
        "        if indexs is not None:\r\n",
        "            self.data = self.data[indexs]\r\n",
        "            self.targets = np.array(self.targets)[indexs]\r\n",
        "\r\n",
        "    def __getitem__(self, index):\r\n",
        "        img, target = self.data[index], self.targets[index]\r\n",
        "\r\n",
        "        if self.transform is not None:\r\n",
        "            img = self.transform(img)\r\n",
        "\r\n",
        "        return img, target\r\n",
        "\r\n",
        "\r\n",
        "class CIFAR100SSL(datasets.CIFAR100):\r\n",
        "    def __init__(self, root, indexs, train=True,transform=None, download=False):\r\n",
        "        super().__init__(root, train=train, transform=transform, download=download)\r\n",
        "        if indexs is not None:\r\n",
        "            self.data = self.data[indexs]\r\n",
        "            self.targets = np.array(self.targets)[indexs]\r\n",
        "\r\n",
        "    def __getitem__(self, index):\r\n",
        "        img, target = self.data[index], self.targets[index]\r\n",
        "\r\n",
        "        if self.transform is not None:\r\n",
        "            img = self.transform(img)\r\n",
        "\r\n",
        "        return img, target"
      ],
      "execution_count": null,
      "outputs": []
    },
    {
      "cell_type": "code",
      "metadata": {
        "id": "EVkHqIPMRu4y"
      },
      "source": [
        "class Make_CIFAR_Data:\n",
        "    def __init__(self, fully_supervised=True, name='cifar10', train=True, root='./data', num_classes=10, num_labeled=40):\n",
        "        self.name = name\n",
        "        self.train = train\n",
        "        self.root = root\n",
        "        self.fully_supervised = fully_supervised\n",
        "        self.num_classes = num_classes\n",
        "        self.num_labeled = num_labeled\n",
        "\n",
        "    #Download base data\n",
        "    def get_base(self):\n",
        "        #train data\n",
        "        if self.train == True:   \n",
        "            if self.name == 'cifar10':\n",
        "                base_data = torchvision.datasets.CIFAR10(root=self.root, train=self.train,\n",
        "                                                download=True, transform=None)\n",
        "\n",
        "            else:\n",
        "                base_data = torchvision.datasets.CIFAR100(root=self.root, train=self.train,\n",
        "                                                download=True, transform=None)\n",
        "            return base_data\n",
        "\n",
        "        #test data\n",
        "        else:\n",
        "            if self.name == 'cifar10':\n",
        "                test_transform = transforms.Compose([\n",
        "                                        transforms.ToTensor(),\n",
        "                                        transforms.Normalize((0.4914, 0.4822, 0.4465), (0.2471, 0.2435, 0.2616))\n",
        "                                    ])\n",
        "                test_data = torchvision.datasets.CIFAR10(root=self.root, train=self.train,\n",
        "                                                download=True, transform=test_transform)\n",
        "            else:\n",
        "                test_transform = transforms.Compose([\n",
        "                                        transforms.ToTensor(),\n",
        "                                        transforms.Normalize((0.5071, 0.4867, 0.4408), (0.2675, 0.2565, 0.2761))\n",
        "                                    ])\n",
        "                test_data = torchvision.datasets.CIFAR100(root=self.root, train=self.train,\n",
        "                                                download=True, transform=test_transform)\n",
        "            return test_data\n",
        "\n",
        "    # transform of cifar10 data\n",
        "    def cifar10_transform(self, img_size, weak=True, N=2, M=10):\n",
        "        assert self.train == True\n",
        "        if weak==True:\n",
        "            weak_transform = transforms.Compose([\n",
        "                transforms.ToPILImage(),\n",
        "                transforms.RandomHorizontalFlip(),\n",
        "                transforms.RandomCrop(size=32,\n",
        "                                padding=int(32*0.125),\n",
        "                                padding_mode='reflect'),\n",
        "                transforms.ToTensor(),\n",
        "                transforms.Normalize((0.4914, 0.4822, 0.4465), (0.2471, 0.2435, 0.2616))\n",
        "            ])\n",
        "            return weak_transform\n",
        "\n",
        "        else:\n",
        "            strong_transform = transforms.Compose([\n",
        "                transforms.ToPILImage(),\n",
        "                transforms.RandomHorizontalFlip(),\n",
        "                transforms.RandomCrop(size=32,\n",
        "                                padding=int(32*0.125),\n",
        "                                padding_mode='reflect'),\n",
        "                RandAugment(N, M),\n",
        "                transforms.ToTensor(),\n",
        "                transforms.Normalize((0.4914, 0.4822, 0.4465), (0.2471, 0.2435, 0.2616))\n",
        "            ])\n",
        "            return strong_transform\n",
        "\n",
        "    # transform of cifar100 data\n",
        "    def cifar100_transform(self, img_size, weak=True, N=4, M=10):\n",
        "        assert self.train == True\n",
        "        # weak transform\n",
        "        if weak==True:\n",
        "            weak_transform = transforms.Compose([\n",
        "                transforms.ToPILImage(),\n",
        "                transforms.RandomHorizontalFlip(),\n",
        "                transforms.RandomCrop(size=32,\n",
        "                                padding=int(32*0.125),\n",
        "                                padding_mode='reflect'),\n",
        "                transforms.ToTensor(),\n",
        "                transforms.Normalize((0.5071, 0.4867, 0.4408), (0.2675, 0.2565, 0.2761))\n",
        "            ])\n",
        "            return weak_transform\n",
        "            \n",
        "        # strong transform\n",
        "        else:\n",
        "            strong_transform = transforms.Compose([\n",
        "                transforms.ToPILImage(),\n",
        "                transforms.RandomHorizontalFlip(),\n",
        "                transforms.RandomCrop(size=32,\n",
        "                                padding=int(32*0.125),\n",
        "                                padding_mode='reflect'),\n",
        "                RandAugment(N, M),\n",
        "                transforms.ToTensor(),\n",
        "                transforms.Normalize((0.5071, 0.4867, 0.4408), (0.2675, 0.2565, 0.2761))\n",
        "            ])\n",
        "            return strong_transform\n",
        "\n",
        "    # split into labeled / unlabeled            \n",
        "    def x_u_split(self, labels, batch_size=64, ratio=7, expand_labels=True):\n",
        "        label_per_class = self.num_labeled // self.num_classes\n",
        "        labels = np.array(labels)\n",
        "        labeled_idx = []\n",
        "        unlabeled_idx = np.array(range(len(labels)))\n",
        "\n",
        "        for i in range(self.num_classes):\n",
        "            idx = np.where(labels == i)[0]\n",
        "            idx = np.random.choice(idx, label_per_class, False)\n",
        "            labeled_idx.extend(idx)\n",
        "        labeled_idx = np.array(labeled_idx)\n",
        "        assert len(labeled_idx) == self.num_labeled\n",
        "        np.random.shuffle(labeled_idx)\n",
        "\n",
        "        unlabeled_idx = np.delete(unlabeled_idx, labeled_idx)\n",
        "        unlabeled_idx = np.random.choice(unlabeled_idx, self.num_labeled*ratio, False)\n",
        "\n",
        "        return labeled_idx, unlabeled_idx\n",
        "\n",
        "    # base -> transform -> get data           \n",
        "    def get_data(self):\n",
        "        base = self.get_base()\n",
        "\n",
        "        ## test data ##\n",
        "        if self.train == False:\n",
        "            return base\n",
        "\n",
        "        ## train data ##\n",
        "        train_labeled_idxs, train_unlabeled_idxs = self.x_u_split(base.targets)\n",
        "\n",
        "        # cifar10\n",
        "        if self.name == 'cifar10':\n",
        "            if self.fully_supervised == True:\n",
        "                weak_transforms = self.cifar10_transform(32, weak=True)\n",
        "                labels = np.array(range(len(base)))\n",
        "                labeled_dataset_fs = CIFAR10SSL(self.root, labels, train=True, transform=weak_transforms)\n",
        "\n",
        "                return labeled_dataset_fs\n",
        "\n",
        "            else:\n",
        "                weak_transforms = self.cifar10_transform(32, weak=True)\n",
        "                strong_transforms = self.cifar10_transform(32, weak=False)\n",
        "\n",
        "                # labeled data, unlabeled data augmented by weak augmentation, unlabeled data augmented by strong augmentation\n",
        "                train_labeled_dataset = CIFAR10SSL(self.root, train_labeled_idxs, train=True, transform=weak_transforms)\n",
        "                unlabeled_dataset_weak = CIFAR10SSL(self.root, train_unlabeled_idxs, train=True, transform=weak_transforms)\n",
        "                unlabeled_dataset_strong = CIFAR10SSL(self.root, train_unlabeled_idxs, train=True, transform=strong_transforms)\n",
        "                \n",
        "                return train_labeled_dataset, unlabeled_dataset_weak, unlabeled_dataset_strong\n",
        "\n",
        "        # cifar100\n",
        "        else:\n",
        "            if self.fully_supervised == True:\n",
        "                weak_transforms = self.cifar100_transform(32, weak=True)\n",
        "                labels = np.array(range(len(base)))\n",
        "                labeled_dataset_fs = CIFAR100SSL(self.root, labels, train=True, transform=weak_transforms)\n",
        "\n",
        "                return labeled_dataset_fs\n",
        "\n",
        "            else:\n",
        "                weak_transforms = self.cifar100_transform(32, weak=True)\n",
        "                strong_transforms = self.cifar100_transform(32, weak=False)\n",
        "\n",
        "                # labeled data, unlabeled data augmented by weak augmentation, unlabeled data augmented by strong augmentation\n",
        "                train_labeled_dataset = CIFAR100SSL(self.root, train_labeled_idxs, train=True, transform=weak_transforms)\n",
        "                unlabeled_dataset_weak = CIFAR100SSL(self.root, train_unlabeled_idxs, train=True, transform=weak_transforms)\n",
        "                unlabeled_dataset_strong = CIFAR100SSL(self.root, train_unlabeled_idxs, train=True, transform=strong_transforms)\n",
        "\n",
        "                return train_labeled_dataset, unlabeled_dataset_weak, unlabeled_dataset_strong\n",
        "\n",
        "    def __call__(self):\n",
        "        return self.get_data()\n"
      ],
      "execution_count": null,
      "outputs": []
    },
    {
      "cell_type": "code",
      "metadata": {
        "id": "wTHUO5qXgeMU",
        "colab": {
          "base_uri": "https://localhost:8080/",
          "height": 225,
          "referenced_widgets": [
            "593ac7c2291d4fb581c8c44b97f75b2a",
            "dbc2e2ac81964d3d8c60893a426c1afd",
            "fa0a0a266fc2462881d4a01bb8ccac9d",
            "d3013a82454648c8a527180909aae4d1",
            "d05d31f6227745db9225dc65e9c0c3d8",
            "481f9f368b8e42df9649c9e7ff0f891e",
            "4e93309254504b6386b8cc04eae623ef",
            "270ab7f0346441cda0660d39a3cb61e5",
            "aa3ecb3f87874218aab030c8190824b6",
            "22494632b23a423e92734ba3354c8ee2",
            "44340b3b1524482193f66179f95b08fb",
            "4b5800389a02466cb0cfff5bac6d9141",
            "c80cf400d3634ac2ab2f3cf54b833224",
            "a8e772213465499ab3bdda82fee38a2e",
            "53ff6a74a805493c983ed7f8da80ea38",
            "0b58bf60e0b7404f8b28bd32544416a4"
          ]
        },
        "outputId": "b98fe744-5b61-47f3-f084-d8e4012847dc"
      },
      "source": [
        "num_labeled = 4000\r\n",
        "\r\n",
        "# dataset for semi-supervised learning(CIFAR10)\r\n",
        "train_cifar10_ssl = Make_CIFAR_Data(fully_supervised=False, name='cifar10', train=True, root='./data', num_classes=10, num_labeled=num_labeled)\r\n",
        "cifar10_lb, cifar10_ulb_w, cifar10_ulb_s = train_cifar10_ssl()\r\n",
        "\r\n",
        "# fully supervised train data(CIFAR10)\r\n",
        "train_cifar10_sl = Make_CIFAR_Data(fully_supervised=True, name='cifar10', train=True, root='./data', num_classes=10, num_labeled=num_labeled)\r\n",
        "cifar10_train = train_cifar10_sl()\r\n",
        "\r\n",
        "# test data(CIFAR10)\r\n",
        "test_cifar10 = Make_CIFAR_Data(fully_supervised=True, name='cifar10', train=False, root='./data', num_classes=10, num_labeled=num_labeled)\r\n",
        "cifar10_test = test_cifar10()\r\n",
        "\r\n",
        "# dataset for semi-supervised learning(CIFAR100)\r\n",
        "train_cifar100_ssl = Make_CIFAR_Data(fully_supervised=False, name='cifar100', train=True, root='./data', num_classes=100, num_labeled=num_labeled)\r\n",
        "cifar100_lb, cifar100_ulb_w, cifar100_ulb_s=train_cifar100_ssl()\r\n",
        "\r\n",
        "# fully supervised train data(CIFAR100)\r\n",
        "train_cifar100_sl = Make_CIFAR_Data(fully_supervised=True, name='cifar100', train=True, root='./data', num_classes=100, num_labeled=num_labeled)\r\n",
        "cifar100_train = train_cifar100_sl()\r\n",
        "\r\n",
        "# test data(CIFAR100)\r\n",
        "test_cifar100 = Make_CIFAR_Data(fully_supervised=True, name='cifar100', train=False, root='./data', num_classes=100, num_labeled=num_labeled)\r\n",
        "cifar100_test = test_cifar100()"
      ],
      "execution_count": null,
      "outputs": [
        {
          "output_type": "stream",
          "text": [
            "Downloading https://www.cs.toronto.edu/~kriz/cifar-10-python.tar.gz to ./data/cifar-10-python.tar.gz\n"
          ],
          "name": "stdout"
        },
        {
          "output_type": "display_data",
          "data": {
            "application/vnd.jupyter.widget-view+json": {
              "model_id": "593ac7c2291d4fb581c8c44b97f75b2a",
              "version_minor": 0,
              "version_major": 2
            },
            "text/plain": [
              "HBox(children=(FloatProgress(value=1.0, bar_style='info', max=1.0), HTML(value='')))"
            ]
          },
          "metadata": {
            "tags": []
          }
        },
        {
          "output_type": "stream",
          "text": [
            "Extracting ./data/cifar-10-python.tar.gz to ./data\n",
            "Files already downloaded and verified\n",
            "Files already downloaded and verified\n",
            "Downloading https://www.cs.toronto.edu/~kriz/cifar-100-python.tar.gz to ./data/cifar-100-python.tar.gz\n"
          ],
          "name": "stdout"
        },
        {
          "output_type": "display_data",
          "data": {
            "application/vnd.jupyter.widget-view+json": {
              "model_id": "aa3ecb3f87874218aab030c8190824b6",
              "version_minor": 0,
              "version_major": 2
            },
            "text/plain": [
              "HBox(children=(FloatProgress(value=1.0, bar_style='info', max=1.0), HTML(value='')))"
            ]
          },
          "metadata": {
            "tags": []
          }
        },
        {
          "output_type": "stream",
          "text": [
            "Extracting ./data/cifar-100-python.tar.gz to ./data\n",
            "Files already downloaded and verified\n",
            "Files already downloaded and verified\n"
          ],
          "name": "stdout"
        }
      ]
    },
    {
      "cell_type": "code",
      "metadata": {
        "id": "GO7ckxcFQBrE"
      },
      "source": [
        "def imgshow(inp, title=None):\r\n",
        "    \"\"\"Imshow for Tensor.\"\"\"\r\n",
        "    inp = inp.numpy().transpose((1, 2, 0))\r\n",
        "    mean = np.array([0.5, 0.5, 0.5])\r\n",
        "    std = np.array([0.5, 0.5, 0.5])\r\n",
        "    inp = std * inp + mean\r\n",
        "    inp = np.clip(inp, 0, 1)\r\n",
        "    plt.imshow(inp)\r\n",
        "    if title is not None:\r\n",
        "        plt.title(title)\r\n",
        "    plt.pause(0.001)  # pause a bit so that plots are updated"
      ],
      "execution_count": null,
      "outputs": []
    },
    {
      "cell_type": "code",
      "metadata": {
        "colab": {
          "base_uri": "https://localhost:8080/",
          "height": 310
        },
        "id": "hIZRtHbZ09p4",
        "outputId": "30be12de-12e4-4c85-aa1f-722ea92c4c87"
      },
      "source": [
        "data_loader_sample = torch.utils.data.DataLoader(cifar10_lb,\r\n",
        "                                                 batch_size=6, \r\n",
        "                                                 shuffle=True)\r\n",
        "\r\n",
        "sample_img, sample_label = next(iter(data_loader_sample))\r\n",
        "print(sample_label)\r\n",
        "# grid work\r\n",
        "out_sample = torchvision.utils.make_grid(sample_img)\r\n",
        "plt.figure(figsize=(25,15))\r\n",
        "plt.xticks(np.arange(0, 1088, step=128))\r\n",
        "imgshow(out_sample)"
      ],
      "execution_count": null,
      "outputs": [
        {
          "output_type": "stream",
          "text": [
            "tensor([5, 9, 2, 2, 8, 4])\n"
          ],
          "name": "stdout"
        },
        {
          "output_type": "display_data",
          "data": {
            "image/png": "[encoded data removed]",
            "text/plain": [
              "<Figure size 1800x1080 with 1 Axes>"
            ]
          },
          "metadata": {
            "tags": [],
            "needs_background": "light"
          }
        }
      ]
    },
    {
      "cell_type": "code",
      "metadata": {
        "colab": {
          "base_uri": "https://localhost:8080/",
          "height": 310
        },
        "id": "e6QHswbOP6O0",
        "outputId": "e3b238e6-7608-4444-f1ff-3a858aeca6da"
      },
      "source": [
        "data_loader_sample = torch.utils.data.DataLoader(cifar10_ulb_s,\r\n",
        "                                                 batch_size=6, \r\n",
        "                                                 shuffle=True)\r\n",
        "\r\n",
        "sample_img, sample_label = next(iter(data_loader_sample))\r\n",
        "print(sample_label)\r\n",
        "# grid work\r\n",
        "out_sample = torchvision.utils.make_grid(sample_img)\r\n",
        "plt.figure(figsize=(25,15))\r\n",
        "plt.xticks(np.arange(0, 1088, step=128))\r\n",
        "imgshow(out_sample)"
      ],
      "execution_count": null,
      "outputs": [
        {
          "output_type": "stream",
          "text": [
            "tensor([2, 5, 5, 5, 2, 8])\n"
          ],
          "name": "stdout"
        },
        {
          "output_type": "display_data",
          "data": {
            "image/png": "[encoded data removed]",
            "text/plain": [
              "<Figure size 1800x1080 with 1 Axes>"
            ]
          },
          "metadata": {
            "tags": [],
            "needs_background": "light"
          }
        }
      ]
    },
    {
      "cell_type": "code",
      "metadata": {
        "colab": {
          "base_uri": "https://localhost:8080/",
          "height": 310
        },
        "id": "Etj2pjoCmT0I",
        "outputId": "9bb38fc7-93ed-4aad-b99d-3c81f28b84d3"
      },
      "source": [
        "data_loader_sample = torch.utils.data.DataLoader(cifar10_test,\r\n",
        "                                                 batch_size=6, \r\n",
        "                                                 shuffle=True)\r\n",
        "\r\n",
        "sample_img, sample_label = next(iter(data_loader_sample))\r\n",
        "print(sample_label)\r\n",
        "# grid work\r\n",
        "out_sample = torchvision.utils.make_grid(sample_img)\r\n",
        "plt.figure(figsize=(25,15))\r\n",
        "plt.xticks(np.arange(0, 1088, step=128))\r\n",
        "imgshow(out_sample)"
      ],
      "execution_count": null,
      "outputs": [
        {
          "output_type": "stream",
          "text": [
            "tensor([4, 9, 8, 4, 5, 9])\n"
          ],
          "name": "stdout"
        },
        {
          "output_type": "display_data",
          "data": {
            "image/png": "[encoded data removed]",
            "text/plain": [
              "<Figure size 1800x1080 with 1 Axes>"
            ]
          },
          "metadata": {
            "tags": [],
            "needs_background": "light"
          }
        }
      ]
    },
    {
      "cell_type": "code",
      "metadata": {
        "id": "MXTPyFEJVT_J"
      },
      "source": [
        "ratio = 7\r\n",
        "cifar10_lb_loader = torch.utils.data.DataLoader(cifar10_lb,\r\n",
        "                                                 batch_size=64, \r\n",
        "                                                 shuffle=True)\r\n",
        "cifar10_ulb_w_loader = torch.utils.data.DataLoader(cifar10_ulb_w,\r\n",
        "                                                 batch_size=64*ratio, \r\n",
        "                                                 shuffle=True)\r\n",
        "cifar10_ulb_s_loader = torch.utils.data.DataLoader(cifar10_ulb_s,\r\n",
        "                                                 batch_size=64*ratio, \r\n",
        "                                                 shuffle=True)"
      ],
      "execution_count": null,
      "outputs": []
    },
    {
      "cell_type": "code",
      "metadata": {
        "id": "wemwQdimBiZW"
      },
      "source": [
        "class BasicBlock(nn.Module):\r\n",
        "    def __init__(self, in_planes, out_planes, stride, drop_rate=0.0, activate_before_residual=False):\r\n",
        "        super(BasicBlock, self).__init__()\r\n",
        "        self.bn1 = nn.BatchNorm2d(in_planes, momentum=0.001)\r\n",
        "        self.relu1 = nn.LeakyReLU(negative_slope=0.1, inplace=True)\r\n",
        "        self.conv1 = nn.Conv2d(in_planes, out_planes, kernel_size=3, stride=stride,\r\n",
        "                               padding=1, bias=False)\r\n",
        "        self.bn2 = nn.BatchNorm2d(out_planes, momentum=0.001)\r\n",
        "        self.relu2 = nn.LeakyReLU(negative_slope=0.1, inplace=True)\r\n",
        "        self.conv2 = nn.Conv2d(out_planes, out_planes, kernel_size=3, stride=1,\r\n",
        "                               padding=1, bias=False)\r\n",
        "        self.drop_rate = drop_rate\r\n",
        "        self.equalInOut = (in_planes == out_planes)\r\n",
        "        self.convShortcut = (not self.equalInOut) and nn.Conv2d(in_planes, out_planes, kernel_size=1, stride=stride,\r\n",
        "                                                                padding=0, bias=False) or None\r\n",
        "        self.activate_before_residual = activate_before_residual\r\n",
        "\r\n",
        "    def forward(self, x):\r\n",
        "        if not self.equalInOut and self.activate_before_residual == True:\r\n",
        "            x = self.relu1(self.bn1(x))\r\n",
        "        else:\r\n",
        "            out = self.relu1(self.bn1(x))\r\n",
        "        out = self.relu2(self.bn2(self.conv1(out if self.equalInOut else x)))\r\n",
        "        if self.drop_rate > 0:\r\n",
        "            out = F.dropout(out, p=self.drop_rate, training=self.training)\r\n",
        "        out = self.conv2(out)\r\n",
        "        return torch.add(x if self.equalInOut else self.convShortcut(x), out)\r\n",
        "\r\n",
        "\r\n",
        "class NetworkBlock(nn.Module):\r\n",
        "    def __init__(self, nb_layers, in_planes, out_planes, block, stride, drop_rate=0.0, activate_before_residual=False):\r\n",
        "        super(NetworkBlock, self).__init__()\r\n",
        "        self.layer = self._make_layer(\r\n",
        "            block, in_planes, out_planes, nb_layers, stride, drop_rate, activate_before_residual)\r\n",
        "\r\n",
        "    def _make_layer(self, block, in_planes, out_planes, nb_layers, stride, drop_rate, activate_before_residual):\r\n",
        "        layers = []\r\n",
        "        for i in range(int(nb_layers)):\r\n",
        "            layers.append(block(i == 0 and in_planes or out_planes, out_planes,\r\n",
        "                                i == 0 and stride or 1, drop_rate, activate_before_residual))\r\n",
        "        return nn.Sequential(*layers)\r\n",
        "\r\n",
        "    def forward(self, x):\r\n",
        "        return self.layer(x)\r\n",
        "\r\n",
        "\r\n",
        "class WideResNet(nn.Module):\r\n",
        "    def __init__(self, num_classes, depth=28, widen_factor=2, drop_rate=0.0):\r\n",
        "        super(WideResNet, self).__init__()\r\n",
        "        channels = [16, 16*widen_factor, 32*widen_factor, 64*widen_factor]\r\n",
        "        assert((depth - 4) % 6 == 0)\r\n",
        "        n = (depth - 4) / 6\r\n",
        "        block = BasicBlock\r\n",
        "        # 1st conv before any network block\r\n",
        "        self.conv1 = nn.Conv2d(3, channels[0], kernel_size=3, stride=1,\r\n",
        "                               padding=1, bias=False)\r\n",
        "        # 1st block\r\n",
        "        self.block1 = NetworkBlock(\r\n",
        "            n, channels[0], channels[1], block, 1, drop_rate, activate_before_residual=True)\r\n",
        "        # 2nd block\r\n",
        "        self.block2 = NetworkBlock(\r\n",
        "            n, channels[1], channels[2], block, 2, drop_rate)\r\n",
        "        # 3rd block\r\n",
        "        self.block3 = NetworkBlock(\r\n",
        "            n, channels[2], channels[3], block, 2, drop_rate)\r\n",
        "        # global average pooling and classifier\r\n",
        "        self.bn1 = nn.BatchNorm2d(channels[3], momentum=0.001)\r\n",
        "        self.relu = nn.LeakyReLU(negative_slope=0.1, inplace=True)\r\n",
        "        self.fc = nn.Linear(channels[3], num_classes)\r\n",
        "        self.channels = channels[3]\r\n",
        "\r\n",
        "        for m in self.modules():\r\n",
        "            if isinstance(m, nn.Conv2d):\r\n",
        "                nn.init.kaiming_normal_(m.weight,\r\n",
        "                                        mode='fan_out',\r\n",
        "                                        nonlinearity='leaky_relu')\r\n",
        "            elif isinstance(m, nn.BatchNorm2d):\r\n",
        "                nn.init.constant_(m.weight, 1.0)\r\n",
        "                nn.init.constant_(m.bias, 0.0)\r\n",
        "            elif isinstance(m, nn.Linear):\r\n",
        "                nn.init.xavier_normal_(m.weight)\r\n",
        "                nn.init.constant_(m.bias, 0.0)\r\n",
        "\r\n",
        "    def forward(self, x):\r\n",
        "        out = self.conv1(x)\r\n",
        "        out = self.block1(out)\r\n",
        "        out = self.block2(out)\r\n",
        "        out = self.block3(out)\r\n",
        "        out = self.relu(self.bn1(out))\r\n",
        "        out = F.adaptive_avg_pool2d(out, 1)\r\n",
        "        out = out.view(-1, self.channels)\r\n",
        "        return self.fc(out)\r\n",
        "\r\n",
        "\r\n",
        "def build_wideresnet(depth, widen_factor, dropout, num_classes):\r\n",
        "    logger.info(f\"Model: WideResNet {depth}x{widen_factor}\")\r\n",
        "    return WideResNet(depth=depth,\r\n",
        "                      widen_factor=widen_factor,\r\n",
        "                      drop_rate=dropout,\r\n",
        "                      num_classes=num_classes)"
      ],
      "execution_count": null,
      "outputs": []
    },
    {
      "cell_type": "code",
      "metadata": {
        "id": "wicnOvNDonzy"
      },
      "source": [
        "T_0=10 # CosineAnnealingWarmRestarts\r\n",
        "lr=1e-4\r\n",
        "min_lr=1e-6\r\n",
        "\r\n",
        "model = WideResNet(10, 28, 2)\r\n",
        "optimizer_cifar10 = SGD(model.parameters(), lr=0.01, momentum=0.9, weight_decay=0.0005)\r\n",
        "optimizer_cifar100 = SGD(model.parameters(), lr=0.01, momentum=0.9, weight_decay=0.001)\r\n",
        "\r\n",
        "scheduler = CosineAnnealingWarmRestarts(optimizer_cifar10, T_0=T_0, T_mult=1, eta_min=min_lr, last_epoch=-1)"
      ],
      "execution_count": null,
      "outputs": []
    },
    {
      "cell_type": "code",
      "metadata": {
        "id": "YD12fGw-Bibu",
        "colab": {
          "base_uri": "https://localhost:8080/"
        },
        "outputId": "d4a7cae1-16c8-425e-efbe-0681dd65544e"
      },
      "source": [
        "for (img_lb, target_lb), (img_ulb_w, _), (img_ulb_s, _) in zip(cifar10_lb_loader, cifar10_ulb_w_loader, cifar10_ulb_s_loader):\r\n",
        "    img_lb, img_ulb_w, img_ulb_s = img_lb.cuda(), img_ulb_w.cuda(), img_ulb_s.cuda()\r\n",
        "    target_lb = target_lb.cuda()\r\n",
        "\r\n",
        "    \r\n",
        "\r\n",
        "    loss = loss_s + lambda_u * loss_u\r\n",
        "    loss.backward()\r\n",
        "    optimizer.step()"
      ],
      "execution_count": null,
      "outputs": [
        {
          "output_type": "stream",
          "text": [
            "torch.Size([448, 3, 32, 32])\n"
          ],
          "name": "stdout"
        }
      ]
    },
    {
      "cell_type": "code",
      "metadata": {
        "id": "pjMLcfFhBifH"
      },
      "source": [
        ""
      ],
      "execution_count": null,
      "outputs": []
    }
  ]
}